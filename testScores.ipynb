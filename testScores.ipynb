{
 "cells": [
  {
   "cell_type": "markdown",
   "metadata": {},
   "source": [
    "**Removed the extreme lines of capital-gain and capital-loss**\n",
    "\n",
    "sha 6d681d9\n",
    "\n",
    "- Raw model: Accuracy score was 0.8554 and F1 score was 0.6753 for raw AdaBoost.\n",
    "- Random search model: Accuracy score was 0.8689 and F1 score was 0.7147 for raw AdaBoost.\n",
    "- Grid search model: Accuracy score was 0.8605 and F1 score was 0.7017 for raw AdaBoost.\n",
    "- Calibrated model: Accuracy score was 0.8263 and F1 score was 0.4817 for raw AdaBoost."
   ]
  },
  {
   "cell_type": "markdown",
   "metadata": {},
   "source": [
    "**Removed extreme line of capital-gain**\n",
    "\n",
    "sha 6a84bd5\n",
    "\n",
    "- Raw model: Accuracy score was 0.8557 and F1 score was 0.6758 for raw AdaBoost.\n",
    "- Random search model: Accuracy score was 0.8691 and F1 score was 0.7132 for raw AdaBoost.\n",
    "- Grid search model: Accuracy score was 0.8613 and F1 score was 0.7034 for raw AdaBoost."
   ]
  },
  {
   "cell_type": "markdown",
   "metadata": {},
   "source": [
    "**Kept data untouched and did not apply log correction**\n",
    "\n",
    "- Raw model: Accuracy score was 0.8559 and F1 score was 0.6774 for raw AdaBoost.\n",
    "- Random search model: Accuracy score was 0.8686 and F1 score was 0.7116 for raw AdaBoost.\n",
    "- Grid search model: Accuracy score was 0.8689 and F1 score was 0.7127 for raw AdaBoost.\n",
    "- Calibrated model: Accuracy score was 0.8685 and F1 score was 0.7057 for raw AdaBoost.\n",
    "\n"
   ]
  },
  {
   "cell_type": "markdown",
   "metadata": {},
   "source": [
    "- Raw model: Accuracy score was 0.8559 and F1 score was 0.6774 for raw AdaBoost.\n",
    "- Random search model: Accuracy score was 0.8690 and F1 score was 0.7138 for raw AdaBoost.\n",
    "- Grid search model: Accuracy score was 0.8689 and F1 score was 0.7127 for raw AdaBoost.\n",
    "- Calibrated model: Accuracy score was 0.8685 and F1 score was 0.7057 for raw AdaBoost."
   ]
  }
 ],
 "metadata": {
  "kernelspec": {
   "display_name": "Python 3",
   "language": "python",
   "name": "python3"
  },
  "language_info": {
   "codemirror_mode": {
    "name": "ipython",
    "version": 3
   },
   "file_extension": ".py",
   "mimetype": "text/x-python",
   "name": "python",
   "nbconvert_exporter": "python",
   "pygments_lexer": "ipython3",
   "version": "3.6.8"
  }
 },
 "nbformat": 4,
 "nbformat_minor": 2
}
